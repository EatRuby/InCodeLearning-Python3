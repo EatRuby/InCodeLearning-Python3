{
 "cells": [
  {
   "cell_type": "markdown",
   "metadata": {},
   "source": [
    "## Optimize codes in Python\n",
    "\n",
    "#### Mingzhang Yang\n",
    "#### 8-18-2016"
   ]
  },
  {
   "cell_type": "markdown",
   "metadata": {},
   "source": [
    "1. Get it right\n",
    "2. Test it's right\n",
    "3. Profile if slow\n",
    "4. Optimize\n",
    "5. Repeat from 2\n",
    "\n",
    "Ref: https://wiki.python.org/moin/PythonSpeed/PerformanceTips"
   ]
  },
  {
   "cell_type": "markdown",
   "metadata": {},
   "source": [
    "--------\n",
    "__Example #1. String concatenation__"
   ]
  },
  {
   "cell_type": "code",
   "execution_count": 21,
   "metadata": {
    "collapsed": false
   },
   "outputs": [],
   "source": [
    "aList = (\"ABCD\"*10000).split(\"A\")"
   ]
  },
  {
   "cell_type": "code",
   "execution_count": 22,
   "metadata": {
    "collapsed": true
   },
   "outputs": [],
   "source": [
    "import time"
   ]
  },
  {
   "cell_type": "code",
   "execution_count": 23,
   "metadata": {
    "collapsed": false
   },
   "outputs": [
    {
     "name": "stdout",
     "output_type": "stream",
     "text": [
      "Time used: 0.005024909973144531\n"
     ]
    }
   ],
   "source": [
    "start = time.time()\n",
    "s = \"\"\n",
    "for elem in aList:\n",
    "    s += elem\n",
    "    \n",
    "print(\"Time used: \" + str(time.time()-start))"
   ]
  },
  {
   "cell_type": "code",
   "execution_count": 24,
   "metadata": {
    "collapsed": false
   },
   "outputs": [
    {
     "name": "stdout",
     "output_type": "stream",
     "text": [
      "Time used: 0.0005824565887451172\n"
     ]
    }
   ],
   "source": [
    "start = time.time()\n",
    "s = ''.join(aList)\n",
    "print(\"Time used: \" + str(time.time() - start))"
   ]
  },
  {
   "cell_type": "markdown",
   "metadata": {},
   "source": [
    "__Example #2. Loops__"
   ]
  },
  {
   "cell_type": "code",
   "execution_count": 25,
   "metadata": {
    "collapsed": false
   },
   "outputs": [
    {
     "name": "stdout",
     "output_type": "stream",
     "text": [
      "Time used: 0.006807565689086914\n"
     ]
    }
   ],
   "source": [
    "start = time.time()\n",
    "bList = []\n",
    "for elem in aList:\n",
    "    bList.append(elem.lower())\n",
    "    \n",
    "print(\"Time used: \" + str(time.time() - start))"
   ]
  },
  {
   "cell_type": "code",
   "execution_count": 26,
   "metadata": {
    "collapsed": false
   },
   "outputs": [
    {
     "name": "stdout",
     "output_type": "stream",
     "text": [
      "Time used: 0.0009329319000244141\n"
     ]
    }
   ],
   "source": [
    "start = time.time()\n",
    "bList = map(str.lower, aList)\n",
    "\n",
    "print(\"Time used: \" + str(time.time() - start))"
   ]
  },
  {
   "cell_type": "markdown",
   "metadata": {},
   "source": [
    "\n",
    "__Example #3. Avoding dots__"
   ]
  },
  {
   "cell_type": "code",
   "execution_count": 33,
   "metadata": {
    "collapsed": false
   },
   "outputs": [
    {
     "name": "stdout",
     "output_type": "stream",
     "text": [
      "Time used: 0.01447439193725586\n"
     ]
    }
   ],
   "source": [
    "aList = list(\"ABCD\" * 10000)\n",
    "\n",
    "start = time.time()\n",
    "wd = {}\n",
    "for elem in aList:\n",
    "    if elem not in wd:\n",
    "        wd[elem] = 1\n",
    "    else:\n",
    "        wd[elem] += 1\n",
    "        \n",
    "print(\"Time used: \" + str(time.time() - start))"
   ]
  },
  {
   "cell_type": "code",
   "execution_count": 39,
   "metadata": {
    "collapsed": false
   },
   "outputs": [
    {
     "name": "stdout",
     "output_type": "stream",
     "text": [
      "Time used: 0.03811764717102051\n"
     ]
    }
   ],
   "source": [
    "start = time.time()\n",
    "wd = {}\n",
    "get = wd.get\n",
    "for elem in aList:\n",
    "    wd[elem] = get(elem, 0) + 1\n",
    "    \n",
    "print(\"Time used: \" + str(time.time() - start))"
   ]
  },
  {
   "cell_type": "code",
   "execution_count": 41,
   "metadata": {
    "collapsed": false
   },
   "outputs": [
    {
     "name": "stdout",
     "output_type": "stream",
     "text": [
      "Time used: 0.014308929443359375\n"
     ]
    }
   ],
   "source": [
    "from collections import defaultdict\n",
    "\n",
    "start = time.time()\n",
    "wd = defaultdict(int)\n",
    "for elem in aList:\n",
    "    wd[elem] += 1\n",
    "    \n",
    "print(\"Time used: \" + str(time.time() - start))"
   ]
  },
  {
   "cell_type": "code",
   "execution_count": null,
   "metadata": {
    "collapsed": true
   },
   "outputs": [],
   "source": []
  }
 ],
 "metadata": {
  "anaconda-cloud": {},
  "kernelspec": {
   "display_name": "Python [Root]",
   "language": "python",
   "name": "Python [Root]"
  },
  "language_info": {
   "codemirror_mode": {
    "name": "ipython",
    "version": 3
   },
   "file_extension": ".py",
   "mimetype": "text/x-python",
   "name": "python",
   "nbconvert_exporter": "python",
   "pygments_lexer": "ipython3",
   "version": "3.5.2"
  }
 },
 "nbformat": 4,
 "nbformat_minor": 0
}
